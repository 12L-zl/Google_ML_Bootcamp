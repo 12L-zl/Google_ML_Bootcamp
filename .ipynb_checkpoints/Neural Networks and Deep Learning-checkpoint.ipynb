{
 "cells": [
  {
   "cell_type": "raw",
   "id": "f0dfb1cb",
   "metadata": {},
   "source": [
    "### 02 Neural Network Basics"
   ]
  },
  {
   "cell_type": "raw",
   "id": "58d8e6ac",
   "metadata": {},
   "source": [
    "# Vectorization"
   ]
  },
  {
   "cell_type": "code",
   "execution_count": 1,
   "id": "a6950f7c",
   "metadata": {},
   "outputs": [
    {
     "name": "stdout",
     "output_type": "stream",
     "text": [
      "[1 2 3 4] <class 'numpy.ndarray'>\n"
     ]
    }
   ],
   "source": [
    "import numpy as np\n",
    "\n",
    "a = np.array([1, 2, 3, 4])\n",
    "print(a, type(a))"
   ]
  },
  {
   "cell_type": "code",
   "execution_count": 7,
   "id": "f82695b8",
   "metadata": {},
   "outputs": [],
   "source": [
    "import time\n",
    "\n",
    "a = np.random.rand(1000000)\n",
    "b = np.random.rand(1000000)"
   ]
  },
  {
   "cell_type": "code",
   "execution_count": 8,
   "id": "79acfb20",
   "metadata": {},
   "outputs": [
    {
     "name": "stdout",
     "output_type": "stream",
     "text": [
      "249855.19309672536\n",
      "Vectorized version : 2.0911693572998047ms\n"
     ]
    }
   ],
   "source": [
    "# 벡터화\n",
    "tic = time.time() # 현재 시간 c 측정\n",
    "c = np.dot(a, b) # W_t(transpose) * X ; 내장함수\n",
    "toc = time.time()\n",
    "\n",
    "print(c)\n",
    "print('Vectorized version : ' + str(1000*(toc-tic)) + 'ms')"
   ]
  },
  {
   "cell_type": "code",
   "execution_count": 9,
   "id": "3f14f235",
   "metadata": {},
   "outputs": [
    {
     "name": "stdout",
     "output_type": "stream",
     "text": [
      "249855.19309672766\n",
      "For loop : 599.9736785888672ms\n"
     ]
    }
   ],
   "source": [
    "# 비벡터화 ; 벡터화보다 약 300배 오래걸림\n",
    "c = 0\n",
    "tic = time.time()\n",
    "for i in range(1000000) :  # 명시적 for문\n",
    "    c += a[i]*b[i]\n",
    "toc = time.time()\n",
    "\n",
    "print(c)\n",
    "print('For loop : ' + str(1000*(toc-tic)) + 'ms')"
   ]
  },
  {
   "cell_type": "code",
   "execution_count": null,
   "id": "fdb8f43d",
   "metadata": {},
   "outputs": [],
   "source": []
  },
  {
   "cell_type": "raw",
   "id": "e5c05145",
   "metadata": {},
   "source": [
    "# Broadcasting"
   ]
  },
  {
   "cell_type": "code",
   "execution_count": 2,
   "id": "3984370f",
   "metadata": {},
   "outputs": [
    {
     "name": "stdout",
     "output_type": "stream",
     "text": [
      "[[ 56.    0.    4.4  68. ]\n",
      " [  1.2 104.   52.    8. ]\n",
      " [  1.8 135.   99.    0.9]]\n"
     ]
    }
   ],
   "source": [
    "import numpy as np\n",
    "A = np.array([[56.0, 0.0, 4.4, 68.0],\n",
    "            [1.2, 104.0, 52.0, 8.0],\n",
    "            [1.8, 135.0, 99.0, 0.9]])\n",
    "print(A)"
   ]
  },
  {
   "cell_type": "code",
   "execution_count": 3,
   "id": "244dc3b9",
   "metadata": {},
   "outputs": [
    {
     "name": "stdout",
     "output_type": "stream",
     "text": [
      "[ 59.  239.  155.4  76.9]\n"
     ]
    }
   ],
   "source": [
    "cal = A.sum(axis=0)\n",
    "print(cal)"
   ]
  },
  {
   "cell_type": "code",
   "execution_count": 4,
   "id": "81dcf80c",
   "metadata": {},
   "outputs": [
    {
     "name": "stdout",
     "output_type": "stream",
     "text": [
      "[[94.91525424  0.          2.83140283 88.42652796]\n",
      " [ 2.03389831 43.51464435 33.46203346 10.40312094]\n",
      " [ 3.05084746 56.48535565 63.70656371  1.17035111]]\n"
     ]
    }
   ],
   "source": [
    "percentage = 100*A/cal.reshape(1, 4)\n",
    "print(percentage)"
   ]
  },
  {
   "cell_type": "raw",
   "id": "f0e9cb30",
   "metadata": {},
   "source": []
  },
  {
   "cell_type": "raw",
   "id": "e1e69be0",
   "metadata": {},
   "source": [
    "# Numpy vectors"
   ]
  },
  {
   "cell_type": "code",
   "execution_count": 23,
   "id": "b59ee7cb",
   "metadata": {},
   "outputs": [],
   "source": [
    "import numpy as np\n",
    "a = np.random.randn(5)"
   ]
  },
  {
   "cell_type": "code",
   "execution_count": 8,
   "id": "c6a0463c",
   "metadata": {},
   "outputs": [
    {
     "name": "stdout",
     "output_type": "stream",
     "text": [
      "[ 0.02083303  1.33330388 -0.03310454 -0.06769971  0.37342   ] (5,)\n"
     ]
    }
   ],
   "source": [
    "print(a ,a.shape) # 1차원 벡터"
   ]
  },
  {
   "cell_type": "code",
   "execution_count": 10,
   "id": "395bdbf3",
   "metadata": {},
   "outputs": [
    {
     "name": "stdout",
     "output_type": "stream",
     "text": [
      "[ 0.02083303  1.33330388 -0.03310454 -0.06769971  0.37342   ] (5,)\n"
     ]
    }
   ],
   "source": [
    "print(a.T, a.T.shape)"
   ]
  },
  {
   "cell_type": "code",
   "execution_count": 11,
   "id": "5b30a6a4",
   "metadata": {},
   "outputs": [
    {
     "name": "stdout",
     "output_type": "stream",
     "text": [
      "1.923254911064244\n"
     ]
    }
   ],
   "source": [
    "print(np.dot(a, a.T))"
   ]
  },
  {
   "cell_type": "code",
   "execution_count": 24,
   "id": "e7dad5f3",
   "metadata": {},
   "outputs": [],
   "source": [
    "a = a.reshape(5, 1) # 1차원 a"
   ]
  },
  {
   "cell_type": "code",
   "execution_count": null,
   "id": "44c769f0",
   "metadata": {},
   "outputs": [],
   "source": []
  },
  {
   "cell_type": "code",
   "execution_count": 20,
   "id": "80632eaa",
   "metadata": {
    "scrolled": true
   },
   "outputs": [
    {
     "name": "stdout",
     "output_type": "stream",
     "text": [
      "[[2.82365067]\n",
      " [0.635375  ]\n",
      " [0.14367704]\n",
      " [0.83350043]\n",
      " [1.78758275]] (5, 1)\n"
     ]
    }
   ],
   "source": [
    "a = np.random.randn(5, 1) # column vector\n",
    "print(a, a.shape)"
   ]
  },
  {
   "cell_type": "code",
   "execution_count": 22,
   "id": "66e2482a",
   "metadata": {},
   "outputs": [
    {
     "name": "stdout",
     "output_type": "stream",
     "text": [
      "[[2.82365067 0.635375   0.14367704 0.83350043 1.78758275]]\n"
     ]
    }
   ],
   "source": [
    "print(a.T) # row vector"
   ]
  },
  {
   "cell_type": "code",
   "execution_count": 21,
   "id": "ae06523d",
   "metadata": {},
   "outputs": [],
   "source": [
    "assert(a.shape == (5, 1)) # 2차원 a"
   ]
  }
 ],
 "metadata": {
  "kernelspec": {
   "display_name": "Python 3 (ipykernel)",
   "language": "python",
   "name": "python3"
  },
  "language_info": {
   "codemirror_mode": {
    "name": "ipython",
    "version": 3
   },
   "file_extension": ".py",
   "mimetype": "text/x-python",
   "name": "python",
   "nbconvert_exporter": "python",
   "pygments_lexer": "ipython3",
   "version": "3.11.4"
  }
 },
 "nbformat": 4,
 "nbformat_minor": 5
}
