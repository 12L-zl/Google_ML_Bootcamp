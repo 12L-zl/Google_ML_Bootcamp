{
 "cells": [
  {
   "cell_type": "raw",
   "id": "5e0faae8",
   "metadata": {},
   "source": [
    "tensorflow"
   ]
  },
  {
   "cell_type": "code",
   "execution_count": 1,
   "id": "55002a07",
   "metadata": {},
   "outputs": [],
   "source": [
    "import numpy as np\n",
    "import tensorflow as tf"
   ]
  },
  {
   "cell_type": "code",
   "execution_count": 2,
   "id": "3478ff6c",
   "metadata": {},
   "outputs": [],
   "source": [
    "w = tf.Variable(0, dtype = tf.float32)   # 0으로 초기화, 부동소수"
   ]
  },
  {
   "cell_type": "code",
   "execution_count": 3,
   "id": "123ee20c",
   "metadata": {},
   "outputs": [],
   "source": [
    "optimizer = tf.keras.optimizers.Adam(0.1) # 0.1의 학습률"
   ]
  },
  {
   "cell_type": "code",
   "execution_count": 9,
   "id": "7d08838e",
   "metadata": {},
   "outputs": [
    {
     "name": "stdout",
     "output_type": "stream",
     "text": [
      "<tf.Variable 'Variable:0' shape=() dtype=float32, numpy=0.0>\n"
     ]
    }
   ],
   "source": [
    "def train_step() : # 단일 교육 단계 정의\n",
    "    with tf.GradientTape() as tape :  # 전진 단계에서 비용함수 계산할 때 작업 순서 기록\n",
    "        cost = w**2 - 10 * w + 25  # 비용함수 : 고정함수\n",
    "\n",
    "    trainable_variables = [w]\n",
    "    grads = tape.gradient(cost, trainable_variables)\n",
    "    optimizer.apply_gradients(zip(grads, trainable_variables))\n",
    "\n",
    "print(w)  # train_step을 실행하지 않은 w의 초기 값 출력"
   ]
  },
  {
   "cell_type": "code",
   "execution_count": 10,
   "id": "459912b7",
   "metadata": {},
   "outputs": [
    {
     "name": "stdout",
     "output_type": "stream",
     "text": [
      "<tf.Variable 'Variable:0' shape=() dtype=float32, numpy=0.09999931>\n"
     ]
    }
   ],
   "source": [
    "train_step()\n",
    "print(w)  # 0.0 -> 0.0999"
   ]
  },
  {
   "cell_type": "code",
   "execution_count": 11,
   "id": "81b94667",
   "metadata": {},
   "outputs": [
    {
     "name": "stdout",
     "output_type": "stream",
     "text": [
      "<tf.Variable 'Variable:0' shape=() dtype=float32, numpy=5.000001>\n"
     ]
    }
   ],
   "source": [
    "# train_step 1000번 반복\n",
    "for i in range(1000) :\n",
    "    train_step()\n",
    "print(w)"
   ]
  },
  {
   "cell_type": "raw",
   "id": "916ed369",
   "metadata": {},
   "source": []
  },
  {
   "cell_type": "code",
   "execution_count": null,
   "id": "ae4ebf3e",
   "metadata": {},
   "outputs": [],
   "source": [
    "# 훈련 단계의 함수 최소화"
   ]
  },
  {
   "cell_type": "code",
   "execution_count": 18,
   "id": "d67218b5",
   "metadata": {},
   "outputs": [],
   "source": [
    "w = tf.Variable(0, dtype = tf.float32)\n",
    "x = np.array([1.0, -10.0, 25.0], dtype=np.float32) # 비용함수의 2차 계수 제어 역할\n",
    "optimizer = tf.keras.optimizers.Adam(0.1) "
   ]
  },
  {
   "cell_type": "code",
   "execution_count": 19,
   "id": "bb53553e",
   "metadata": {},
   "outputs": [
    {
     "name": "stdout",
     "output_type": "stream",
     "text": [
      "<tf.Variable 'Variable:0' shape=() dtype=float32, numpy=0.0>\n"
     ]
    }
   ],
   "source": [
    "def cost_fn() : \n",
    "    return x[0] * w ** 2 - x[1] * w + x[2]\n",
    "\n",
    "print(w)"
   ]
  },
  {
   "cell_type": "code",
   "execution_count": 20,
   "id": "d4334c37",
   "metadata": {},
   "outputs": [
    {
     "name": "stdout",
     "output_type": "stream",
     "text": [
      "<tf.Variable 'Variable:0' shape=() dtype=float32, numpy=-0.09999931>\n"
     ]
    }
   ],
   "source": [
    "optimizer.minimize(cost_fn, [w])\n",
    "print(w)"
   ]
  },
  {
   "cell_type": "code",
   "execution_count": 21,
   "id": "88aa9bcc",
   "metadata": {},
   "outputs": [],
   "source": [
    "def training(x, w, optimizer) :\n",
    "    def cost_fn() : \n",
    "        return x[0] * w ** 2 - x[1] * w + x[2]\n",
    "    for i in range(1000) :\n",
    "        optimizer.minimize(cost_fn, [w])\n",
    "    return w"
   ]
  },
  {
   "cell_type": "code",
   "execution_count": 22,
   "id": "438e592a",
   "metadata": {},
   "outputs": [
    {
     "name": "stdout",
     "output_type": "stream",
     "text": [
      "<tf.Variable 'Variable:0' shape=() dtype=float32, numpy=-5.000001>\n"
     ]
    }
   ],
   "source": [
    "w = training(x, w, optimizer)\n",
    "print(w)"
   ]
  },
  {
   "cell_type": "code",
   "execution_count": null,
   "id": "df9e689e",
   "metadata": {},
   "outputs": [],
   "source": []
  }
 ],
 "metadata": {
  "kernelspec": {
   "display_name": "Python 3 (ipykernel)",
   "language": "python",
   "name": "python3"
  },
  "language_info": {
   "codemirror_mode": {
    "name": "ipython",
    "version": 3
   },
   "file_extension": ".py",
   "mimetype": "text/x-python",
   "name": "python",
   "nbconvert_exporter": "python",
   "pygments_lexer": "ipython3",
   "version": "3.11.4"
  }
 },
 "nbformat": 4,
 "nbformat_minor": 5
}
